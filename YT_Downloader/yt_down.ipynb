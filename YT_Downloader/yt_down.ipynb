{
 "cells": [
  {
   "cell_type": "code",
   "execution_count": null,
   "metadata": {},
   "outputs": [],
   "source": [
    "from pytube import YouTube\n",
    "import ffmpeg\n",
    "import threading\n",
    "import os"
   ]
  },
  {
   "cell_type": "code",
   "execution_count": null,
   "metadata": {},
   "outputs": [],
   "source": [
    "video_path = './video_files/'\n",
    "audio_path = './audio_files/'\n",
    "final_path = './final_files/'\n",
    "caption_path = './captions/'"
   ]
  },
  {
   "cell_type": "code",
   "execution_count": null,
   "metadata": {},
   "outputs": [],
   "source": [
    "link = input(\"Enter a YouTube link: \")\n",
    "yt_obj = YouTube(link)"
   ]
  },
  {
   "cell_type": "code",
   "execution_count": null,
   "metadata": {},
   "outputs": [],
   "source": [
    "#Title of video\n",
    "print(\"Title: \",yt_obj.title)\n",
    "#Number of views of video\n",
    "print(\"Number of views: \",yt_obj.views)\n",
    "#Length of the video\n",
    "print(\"Length of video: \",yt_obj.length,\"seconds\")\n",
    "#Rating\n",
    "print(\"Ratings: \",yt_obj.rating)"
   ]
  },
  {
   "cell_type": "code",
   "execution_count": null,
   "metadata": {},
   "outputs": [],
   "source": [
    "filter_set = 'abcdefghijklmnopqrstuvwxyz'\n",
    "filter_set = filter_set + filter_set.upper() + ''.join(list(map(str, range(0, 10)))) + ' '\n",
    "\n",
    "title = '_'.join(''.join([x for x in yt_obj.title if x in filter_set]).split())\n",
    "\n",
    "print(title)"
   ]
  },
  {
   "cell_type": "code",
   "execution_count": null,
   "metadata": {},
   "outputs": [],
   "source": [
    "video_files = list()\n",
    "audio_files = list()\n",
    "\n",
    "for file in yt_obj.streams.filter(adaptive=True):\n",
    "\n",
    "    if 'video' in file.mime_type:\n",
    "        if int(file.resolution[:-1]) >= 1080:\n",
    "            video_files.append(file)\n",
    "    else:\n",
    "        audio_files.append(file)"
   ]
  },
  {
   "cell_type": "code",
   "execution_count": null,
   "metadata": {},
   "outputs": [],
   "source": [
    "best_video = video_files[0]\n",
    "\n",
    "for video in video_files[1:]:\n",
    "\n",
    "    if int(video.resolution[:-1]) > int(best_video.resolution[:-1]) and int(video.fps[:-3]) > int(best_video.fps[:-3]):\n",
    "        best_video = video\n",
    "\n",
    "best_audio = audio_files[0]\n",
    "\n",
    "for audio in audio_files[1:]:\n",
    "\n",
    "    if int(audio.abr[:-4]) > int(best_audio.abr[:-4]):\n",
    "        best_audio = audio\n",
    "\n",
    "print(best_video, best_audio, sep='\\n')"
   ]
  },
  {
   "cell_type": "code",
   "execution_count": null,
   "metadata": {},
   "outputs": [],
   "source": [
    "message = ''\n",
    "\n",
    "def progress_callback(stream, chunk, bytes_remaining):\n",
    "\n",
    "    try:\n",
    "        size = video.filesize\n",
    "        message = 'Video File Downloaded'\n",
    "    except Exception as e:\n",
    "        size = audio.filesize\n",
    "        message = 'Audio File Downloaded'\n",
    "\n",
    "    progress = int(((size*10 - bytes_remaining)) / 1000000)\n",
    "    print(f'Total: {int(size / 100000)}MB | {progress}MB Completed', end='\\r')\n",
    "\n",
    "def complete_callback(stream, file_handle):\n",
    "    print(message)\n",
    "\n",
    "yt_obj.register_on_progress_callback(progress_callback)\n",
    "yt_obj.register_on_complete_callback(complete_callback)\n",
    "\n",
    "caption_track = None\n",
    "\n",
    "for caption in yt_obj.caption_tracks:\n",
    "\n",
    "    if 'en' in caption.code and 'auto' not in caption.name:\n",
    "        caption_track = yt_obj.captions[caption.code]\n",
    "\n",
    "        with open(caption_path+title+'.srt', 'w') as fp:\n",
    "            fp.write(caption_track.generate_srt_captions())\n",
    "\n",
    "best_video.download(output_path=video_path, filename=title+'.'+best_video.mime_type[6:])\n",
    "print()\n",
    "best_audio.download(output_path=audio_path, filename=title+'.'+best_audio.mime_type[6:])"
   ]
  },
  {
   "cell_type": "code",
   "execution_count": null,
   "metadata": {},
   "outputs": [],
   "source": [
    "def start_ffmpeg_thread(audio_part, video_part, path, caption_part):\n",
    "    threading.Thread(target=start_ffmpeg, args=(audio_part, video_part, path, caption_part)).start()\n",
    "\n",
    "def start_ffmpeg(audio_part, video_part, path, caption_part):\n",
    "    #while True:\n",
    "    #    if is_cancelled:\n",
    "    #        break\n",
    "    global ffmpeg_process\n",
    "\n",
    "    # Allow only one instance of FFmpeg to be executed - ffmpeg_process = None in the first time, and ffmpeg_process.poll() is not None when FFmpeg is not running\n",
    "    if (ffmpeg_process is None) or ffmpeg_process.poll():\n",
    "        threading.Thread(target=ffmpeg_func, args=(audio_part, video_part, path, caption_part)).start()\n",
    "\n",
    "def ffmpeg_func(audio_part, video_part, path, caption_part):\n",
    "    global ffmpeg_process\n",
    "    #ffmpeg.output(audio_part, video_part, path).run(overwrite_output=True)\n",
    "    if caption_part:\n",
    "        ffmpeg_process = ffmpeg.output(audio_part, video_part, caption_part, path, acodec='copy', vcodec='copy').overwrite_output().run_async(pipe_stdin=True)\n",
    "    else:\n",
    "        ffmpeg_process = ffmpeg.output(audio_part, video_part, path, acodec='copy', vcodec='copy').overwrite_output().run_async(pipe_stdin=True)\n",
    "    \n",
    "def cancel_ffmpeg():\n",
    "    #global is_cancelled\n",
    "    #is_cancelled = True\n",
    "    global ffmpeg_process\n",
    "\n",
    "    #Check if FFmpeg sub-process is running\n",
    "    if (ffmpeg_process is not None) and (ffmpeg_process.poll() is None):\n",
    "        # Terminate FFmpeg gracefully\n",
    "        ffmpeg_process.stdin.write('q'.encode(\"GBK\"))  # Simulate user pressing 'q' key\n",
    "        ffmpeg_process.communicate()\n",
    "        ffmpeg_process.wait()\n",
    "        ffmpeg_process = None\n",
    "\n",
    "#is_cancelled = False\n",
    "ffmpeg_process = None\n",
    "\n",
    "video_stream = ffmpeg.input(video_path+title+'.'+best_video.mime_type[6:])\n",
    "audio_stream = ffmpeg.input(audio_path+title+'.'+best_audio.mime_type[6:])\n",
    "\n",
    "path = final_path+title+'.'+best_video.mime_type[6:]\n",
    "\n",
    "caption_stream = None\n",
    "\n",
    "if title+'.srt' in os.listdir(caption_path):\n",
    "    caption_stream = ffmpeg.input(caption_path+title+'.srt')\n",
    "    start_ffmpeg_thread(audio_stream, video_stream, path, caption_stream)\n",
    "else:\n",
    "    start_ffmpeg_thread(audio_stream, video_stream, path, caption_stream)"
   ]
  }
 ],
 "metadata": {
  "kernelspec": {
   "display_name": "work_env",
   "language": "python",
   "name": "python3"
  },
  "language_info": {
   "codemirror_mode": {
    "name": "ipython",
    "version": 3
   },
   "file_extension": ".py",
   "mimetype": "text/x-python",
   "name": "python",
   "nbconvert_exporter": "python",
   "pygments_lexer": "ipython3",
   "version": "3.10.6"
  },
  "orig_nbformat": 4
 },
 "nbformat": 4,
 "nbformat_minor": 2
}
