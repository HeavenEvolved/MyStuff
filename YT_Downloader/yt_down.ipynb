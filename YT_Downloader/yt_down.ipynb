{
 "cells": [
  {
   "cell_type": "code",
   "execution_count": 17,
   "metadata": {},
   "outputs": [],
   "source": [
    "from pytube import YouTube\n",
    "import ffmpeg\n",
    "import threading"
   ]
  },
  {
   "cell_type": "code",
   "execution_count": 18,
   "metadata": {},
   "outputs": [],
   "source": [
    "video_path = './video_files/'\n",
    "audio_path = './audio_files/'\n",
    "final_path = './final_files/'\n",
    "caption_path = './captions/'"
   ]
  },
  {
   "cell_type": "code",
   "execution_count": 19,
   "metadata": {},
   "outputs": [],
   "source": [
    "link = input(\"Enter a YouTube link: \")\n",
    "yt_obj = YouTube(link)"
   ]
  },
  {
   "cell_type": "code",
   "execution_count": 20,
   "metadata": {},
   "outputs": [
    {
     "name": "stdout",
     "output_type": "stream",
     "text": [
      "Title:  [리무진서비스] EP.29 엔믹스 릴리 | NMIXX LILY | DICE, Psycho, Butter, 어떻게 이별까지 사랑하겠어 널 사랑하는 거지\n",
      "Number of views:  3240164\n",
      "Length of video:  1463 seconds\n",
      "Ratings:  None\n"
     ]
    }
   ],
   "source": [
    "#Title of video\n",
    "print(\"Title: \",yt_obj.title)\n",
    "#Number of views of video\n",
    "print(\"Number of views: \",yt_obj.views)\n",
    "#Length of the video\n",
    "print(\"Length of video: \",yt_obj.length,\"seconds\")\n",
    "#Rating\n",
    "print(\"Ratings: \",yt_obj.rating)"
   ]
  },
  {
   "cell_type": "code",
   "execution_count": 21,
   "metadata": {},
   "outputs": [
    {
     "name": "stdout",
     "output_type": "stream",
     "text": [
      "EP29_NMIXX_LILY_DICE_Psycho_Butter\n"
     ]
    }
   ],
   "source": [
    "filter_set = 'abcdefghijklmnopqrstuvwxyz'\n",
    "filter_set = filter_set + filter_set.upper() + ''.join(list(map(str, range(0, 10)))) + ' '\n",
    "\n",
    "title = '_'.join(''.join([x for x in yt_obj.title if x in filter_set]).split())\n",
    "\n",
    "print(title)"
   ]
  },
  {
   "cell_type": "code",
   "execution_count": 22,
   "metadata": {},
   "outputs": [],
   "source": [
    "video_files = list()\n",
    "audio_files = list()\n",
    "\n",
    "for file in yt_obj.streams.filter(adaptive=True):\n",
    "\n",
    "    if 'video' in file.mime_type:\n",
    "        if int(file.resolution[:-1]) >= 1080:\n",
    "            video_files.append(file)\n",
    "    else:\n",
    "        audio_files.append(file)"
   ]
  },
  {
   "cell_type": "code",
   "execution_count": 23,
   "metadata": {},
   "outputs": [
    {
     "name": "stdout",
     "output_type": "stream",
     "text": [
      "<Stream: itag=\"313\" mime_type=\"video/webm\" res=\"2160p\" fps=\"24fps\" vcodec=\"vp9\" progressive=\"False\" type=\"video\">\n",
      "<Stream: itag=\"251\" mime_type=\"audio/webm\" abr=\"160kbps\" acodec=\"opus\" progressive=\"False\" type=\"audio\">\n"
     ]
    }
   ],
   "source": [
    "best_video = video_files[0]\n",
    "\n",
    "for video in video_files[1:]:\n",
    "\n",
    "    if int(video.resolution[:-1]) > int(best_video.resolution[:-1]) and int(video.fps[:-3]) > int(best_video.fps[:-3]):\n",
    "        best_video = video\n",
    "\n",
    "best_audio = audio_files[0]\n",
    "\n",
    "for audio in audio_files[1:]:\n",
    "\n",
    "    if int(audio.abr[:-4]) > int(best_audio.abr[:-4]):\n",
    "        best_audio = audio\n",
    "\n",
    "print(best_video, best_audio, sep='\\n')"
   ]
  },
  {
   "cell_type": "code",
   "execution_count": 24,
   "metadata": {},
   "outputs": [
    {
     "name": "stdout",
     "output_type": "stream",
     "text": [
      "\n",
      "\n",
      "\n"
     ]
    },
    {
     "data": {
      "text/plain": [
       "'/home/evo/Documents/GitHub/MyStuff/YT_Downloader/./audio_files/EP29_NMIXX_LILY_DICE_Psycho_Butter.webm'"
      ]
     },
     "execution_count": 24,
     "metadata": {},
     "output_type": "execute_result"
    }
   ],
   "source": [
    "message = ''\n",
    "\n",
    "def progress_callback(stream, chunk, bytes_remaining):\n",
    "    try:\n",
    "        size = video.filesize\n",
    "        message = 'Video File Downloaded'\n",
    "    except Exception as e:\n",
    "        size = audio.filesize\n",
    "        message = 'Audio File Downloaded'\n",
    "\n",
    "    progress = -int(((size - bytes_remaining) / size))\n",
    "    print(f'{progress}MB Remaining', end='\\r')\n",
    "\n",
    "def complete_callback(stream, file_handle):\n",
    "    print(message)\n",
    "\n",
    "yt_obj.register_on_progress_callback(progress_callback)\n",
    "yt_obj.register_on_complete_callback(complete_callback)\n",
    "\n",
    "caption_track = None\n",
    "\n",
    "for caption in yt_obj.caption_tracks:\n",
    "\n",
    "    if 'en' in caption.code:\n",
    "        caption_track = yt_obj.captions[caption.code]\n",
    "\n",
    "with open(caption_path+title+'.srt', 'w') as fp:\n",
    "    fp.write(caption_track.generate_srt_captions())\n",
    "\n",
    "best_video.download(output_path=video_path, filename=title+'.'+best_video.mime_type[6:])\n",
    "print()\n",
    "best_audio.download(output_path=audio_path, filename=title+'.'+best_audio.mime_type[6:])"
   ]
  },
  {
   "cell_type": "code",
   "execution_count": 25,
   "metadata": {},
   "outputs": [
    {
     "name": "stderr",
     "output_type": "stream",
     "text": [
      "ffmpeg version 4.4.2-0ubuntu0.22.04.1 Copyright (c) 2000-2021 the FFmpeg developers\n",
      "  built with gcc 11 (Ubuntu 11.2.0-19ubuntu1)\n",
      "  configuration: --prefix=/usr --extra-version=0ubuntu0.22.04.1 --toolchain=hardened --libdir=/usr/lib/x86_64-linux-gnu --incdir=/usr/include/x86_64-linux-gnu --arch=amd64 --enable-gpl --disable-stripping --enable-gnutls --enable-ladspa --enable-libaom --enable-libass --enable-libbluray --enable-libbs2b --enable-libcaca --enable-libcdio --enable-libcodec2 --enable-libdav1d --enable-libflite --enable-libfontconfig --enable-libfreetype --enable-libfribidi --enable-libgme --enable-libgsm --enable-libjack --enable-libmp3lame --enable-libmysofa --enable-libopenjpeg --enable-libopenmpt --enable-libopus --enable-libpulse --enable-librabbitmq --enable-librubberband --enable-libshine --enable-libsnappy --enable-libsoxr --enable-libspeex --enable-libsrt --enable-libssh --enable-libtheora --enable-libtwolame --enable-libvidstab --enable-libvorbis --enable-libvpx --enable-libwebp --enable-libx265 --enable-libxml2 --enable-libxvid --enable-libzimg --enable-libzmq --enable-libzvbi --enable-lv2 --enable-omx --enable-openal --enable-opencl --enable-opengl --enable-sdl2 --enable-pocketsphinx --enable-librsvg --enable-libmfx --enable-libdc1394 --enable-libdrm --enable-libiec61883 --enable-chromaprint --enable-frei0r --enable-libx264 --enable-shared\n",
      "  libavutil      56. 70.100 / 56. 70.100\n",
      "  libavcodec     58.134.100 / 58.134.100\n",
      "  libavformat    58. 76.100 / 58. 76.100\n",
      "  libavdevice    58. 13.100 / 58. 13.100\n",
      "  libavfilter     7.110.100 /  7.110.100\n",
      "  libswscale      5.  9.100 /  5.  9.100\n",
      "  libswresample   3.  9.100 /  3.  9.100\n",
      "  libpostproc    55.  9.100 / 55.  9.100\n",
      "Input #0, matroska,webm, from './audio_files/EP29_NMIXX_LILY_DICE_Psycho_Butter.webm':\n",
      "  Metadata:\n",
      "    encoder         : google/video-file\n",
      "  Duration: 00:24:23.40, start: -0.007000, bitrate: 121 kb/s\n",
      "  Stream #0:0(eng): Audio: opus, 48000 Hz, stereo, fltp (default)\n",
      "Input #1, matroska,webm, from './video_files/EP29_NMIXX_LILY_DICE_Psycho_Butter.webm':\n",
      "  Metadata:\n",
      "    encoder         : google/video-file\n",
      "  Duration: 00:24:23.38, start: 0.000000, bitrate: 5232 kb/s\n",
      "  Stream #1:0(eng): Video: vp9 (Profile 0), yuv420p(tv, bt709), 3840x1634, SAR 1:1 DAR 1920:817, 23.98 fps, 23.98 tbr, 1k tbn, 1k tbc (default)\n",
      "Input #2, srt, from './captions/EP29_NMIXX_LILY_DICE_Psycho_Butter.srt':\n",
      "  Duration: N/A, bitrate: N/A\n",
      "  Stream #2:0: Subtitle: subrip\n",
      "Output #0, webm, to './final_files/EP29_NMIXX_LILY_DICE_Psycho_Butter.webm':\n",
      "  Metadata:\n",
      "    encoder         : Lavf58.76.100\n",
      "  Stream #0:0(eng): Audio: opus, 48000 Hz, stereo, fltp (default)\n",
      "  Stream #0:1(eng): Video: vp9 (Profile 0), yuv420p(tv, bt709), 3840x1634 [SAR 1:1 DAR 1920:817], q=2-31, 23.98 fps, 23.98 tbr, 1k tbn, 1k tbc (default)\n",
      "  Stream #0:2: Subtitle: webvtt\n",
      "    Metadata:\n",
      "      encoder         : Lavc58.134.100 webvtt\n",
      "Stream mapping:\n",
      "  Stream #0:0 -> #0:0 (copy)\n",
      "  Stream #1:0 -> #0:1 (copy)\n",
      "  Stream #2:0 -> #0:2 (subrip (srt) -> webvtt (native))\n",
      "Press [q] to stop, [?] for help\n",
      "[srt @ 0x55cbdd6dc4c0] Unrecognized tag Leetime=00:00:00.00 bitrate=N/A speed=   0x    \n",
      "[srt @ 0x55cbdd6dc4c0] Unrecognized tag DICE\n",
      "    Last message repeated 1 times\n",
      "[srt @ 0x55cbdd6dc4c0] Unrecognized tag Dice\n",
      "[srt @ 0x55cbdd6dc4c0] Unrecognized tag Psycho\n",
      "    Last message repeated 1 times\n",
      "[srt @ 0x55cbdd6dc4c0] Unrecognized tag Hellome=00:08:57.18 bitrate=5153.2kbits/s speed=1.07e+03x    \n",
      "[srt @ 0x55cbdd6dc4c0] Unrecognized tag Butter\n",
      "    Last message repeated 1 times\n",
      "[srt @ 0x55cbdd6dc4c0] Unrecognized tag Basketime=00:16:39.34 bitrate=5332.4kbits/s speed= 996x    \n",
      "[srt @ 0x55cbdd6dc4c0] Unrecognized tag How\n",
      "    Last message repeated 1 times\n",
      "frame=35086 fps=24828 q=-1.0 Lsize=  956543kB time=00:24:23.38 bitrate=5354.7kbits/s speed=1.04e+03x    \n",
      "video:934486kB audio:21267kB subtitle:9kB other streams:0kB global headers:0kB muxing overhead: 0.081711%\n"
     ]
    }
   ],
   "source": [
    "def start_ffmpeg_thread(audio_part, video_part, caption_part,path):\n",
    "    threading.Thread(target=start_ffmpeg, args=(audio_part, video_part, caption_part, path)).start()\n",
    "\n",
    "def start_ffmpeg(audio_part, video_part, caption_part, path):\n",
    "    #while True:\n",
    "    #    if is_cancelled:\n",
    "    #        break\n",
    "    global ffmpeg_process\n",
    "\n",
    "    # Allow only one instance of FFmpeg to be executed - ffmpeg_process = None in the first time, and ffmpeg_process.poll() is not None when FFmpeg is not running\n",
    "    if (ffmpeg_process is None) or ffmpeg_process.poll():\n",
    "        threading.Thread(target=ffmpeg_func, args=(audio_part, video_part, caption_part, path)).start()\n",
    "\n",
    "def ffmpeg_func(audio_part, video_part, caption_part, path):\n",
    "    global ffmpeg_process\n",
    "    #ffmpeg.output(audio_part, video_part, path).run(overwrite_output=True)\n",
    "    ffmpeg_process = ffmpeg.output(audio_part, video_part, caption_part, path, acodec='copy', vcodec='copy').overwrite_output().run_async(pipe_stdin=True)\n",
    "    \n",
    "\n",
    "def cancel_ffmpeg():\n",
    "    #global is_cancelled\n",
    "    #is_cancelled = True\n",
    "    global ffmpeg_process\n",
    "\n",
    "    #Check if FFmpeg sub-process is running\n",
    "    if (ffmpeg_process is not None) and (ffmpeg_process.poll() is None):\n",
    "        # Terminate FFmpeg gracefully\n",
    "        ffmpeg_process.stdin.write('q'.encode(\"GBK\"))  # Simulate user pressing 'q' key\n",
    "        ffmpeg_process.communicate()\n",
    "        ffmpeg_process.wait()\n",
    "        ffmpeg_process = None\n",
    "\n",
    "#is_cancelled = False\n",
    "ffmpeg_process = None\n",
    "\n",
    "video_stream = ffmpeg.input(video_path+title+'.'+best_video.mime_type[6:])\n",
    "audio_stream = ffmpeg.input(audio_path+title+'.'+best_audio.mime_type[6:])\n",
    "caption_stream = ffmpeg.input(caption_path+title+'.srt')\n",
    "path = final_path+title+'.'+best_video.mime_type[6:]\n",
    "\n",
    "start_ffmpeg_thread(audio_stream, video_stream, caption_stream, path)"
   ]
  },
  {
   "cell_type": "code",
   "execution_count": null,
   "metadata": {},
   "outputs": [],
   "source": []
  }
 ],
 "metadata": {
  "kernelspec": {
   "display_name": "work_env",
   "language": "python",
   "name": "python3"
  },
  "language_info": {
   "codemirror_mode": {
    "name": "ipython",
    "version": 3
   },
   "file_extension": ".py",
   "mimetype": "text/x-python",
   "name": "python",
   "nbconvert_exporter": "python",
   "pygments_lexer": "ipython3",
   "version": "3.10.6"
  },
  "orig_nbformat": 4
 },
 "nbformat": 4,
 "nbformat_minor": 2
}
