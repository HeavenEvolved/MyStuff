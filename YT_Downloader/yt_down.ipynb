{
 "cells": [
  {
   "cell_type": "code",
   "execution_count": null,
   "metadata": {},
   "outputs": [],
   "source": [
    "import math\n",
    "import os\n",
    "import time\n",
    "import xml.etree.ElementTree as ElementTree\n",
    "from html import unescape\n",
    "from subprocess import call\n",
    "\n",
    "from pytube import YouTube"
   ]
  },
  {
   "cell_type": "code",
   "execution_count": null,
   "metadata": {},
   "outputs": [],
   "source": [
    "video_path = os.getcwd() + '/video_files/'\n",
    "audio_path = os.getcwd() + '/audio_files/'\n",
    "final_path = os.getcwd() + '/final_files/'\n",
    "caption_path = os.getcwd() + '/captions/'"
   ]
  },
  {
   "cell_type": "code",
   "execution_count": null,
   "metadata": {},
   "outputs": [],
   "source": [
    "link = input(\"Enter a YouTube link: \")\n",
    "yt_obj = YouTube(link)"
   ]
  },
  {
   "cell_type": "code",
   "execution_count": null,
   "metadata": {},
   "outputs": [],
   "source": [
    "#Title of video\n",
    "print(\"Title: \",yt_obj.title)\n",
    "#Number of views of video\n",
    "print(\"Number of views: \",yt_obj.views)\n",
    "#Length of the video\n",
    "print(\"Length of video: \",yt_obj.length,\"seconds\")\n",
    "#Rating\n",
    "print(\"Ratings: \",yt_obj.rating)"
   ]
  },
  {
   "cell_type": "code",
   "execution_count": null,
   "metadata": {},
   "outputs": [],
   "source": [
    "yt_obj.title = \"TWICE-SET ME FREE\""
   ]
  },
  {
   "cell_type": "code",
   "execution_count": null,
   "metadata": {},
   "outputs": [],
   "source": [
    "filter_set = 'abcdefghijklmnopqrstuvwxyz'\n",
    "filter_set = filter_set + filter_set.upper() + ''.join(list(map(str, range(0, 10)))) + ' -'\n",
    "\n",
    "title = '_'.join(''.join([x for x in yt_obj.title if x in filter_set]).split())\n",
    "\n",
    "print(title)"
   ]
  },
  {
   "cell_type": "code",
   "execution_count": null,
   "metadata": {},
   "outputs": [],
   "source": [
    "video_files = list()\n",
    "audio_files = list()\n",
    "\n",
    "for file in yt_obj.streams.filter(adaptive=True):\n",
    "\n",
    "    if 'video' in file.mime_type:\n",
    "        if int(file.resolution[:-1]) >= 1080:\n",
    "            video_files.append(file)\n",
    "    else:\n",
    "        audio_files.append(file)"
   ]
  },
  {
   "cell_type": "code",
   "execution_count": null,
   "metadata": {},
   "outputs": [],
   "source": [
    "best_video = video_files[0]\n",
    "\n",
    "for video in video_files[1:]:\n",
    "\n",
    "    if int(video.resolution[:-1]) > int(best_video.resolution[:-1]) and int(video.fps[:-3]) > int(best_video.fps[:-3]):\n",
    "        best_video = video\n",
    "\n",
    "best_audio = audio_files[0]\n",
    "\n",
    "for audio in audio_files[1:]:\n",
    "\n",
    "    if int(audio.abr[:-4]) > int(best_audio.abr[:-4]):\n",
    "        best_audio = audio\n",
    "\n",
    "print(best_video, best_audio, sep='\\n')"
   ]
  },
  {
   "cell_type": "code",
   "execution_count": null,
   "metadata": {},
   "outputs": [],
   "source": [
    "def float_to_srt_time_format(d: float) -> str:\n",
    "\n",
    "    fraction, whole = math.modf(d)\n",
    "    time_fmt = time.strftime(\"%H:%M:%S,\", time.gmtime(whole))\n",
    "    ms = f\"{fraction:.3f}\".replace(\"0.\", \"\")\n",
    "    return time_fmt + ms\n",
    "\n",
    "def xml_caption_to_srt(xml_captions: str):\n",
    "\n",
    "    segments = []\n",
    "    root = ElementTree.fromstring(xml_captions)\n",
    "    segment_number = 0\n",
    "\n",
    "    for child in list(root.iter(\"body\"))[0]:\n",
    "\n",
    "        if child.tag == 'p':\n",
    "\n",
    "            caption = child.text\n",
    "\n",
    "            for s in list(child):\n",
    "                if s.tag == 's':\n",
    "                    caption += ' ' + s.text\n",
    "\n",
    "            caption = unescape(caption.replace('\\n', '').replace('  ', ' '),)\n",
    "\n",
    "            try:\n",
    "                duration = float(child.attrib['d'])/1000.0\n",
    "            except KeyError:\n",
    "                duration = 0.0\n",
    "\n",
    "            start = float(child.attrib['t'])/1000.0\n",
    "            end = start + duration\n",
    "            segment_number += 1\n",
    "\n",
    "            line = '{seg_num}\\n{start} --> {end}\\n{cap}\\n'.format(\n",
    "                seg_num = segment_number,\n",
    "                start = float_to_srt_time_format(start),\n",
    "                end = float_to_srt_time_format(end),\n",
    "                cap = caption,\n",
    "            )\n",
    "\n",
    "            segments.append(line.strip())\n",
    "\n",
    "    return '\\n\\n'.join(segments).strip()"
   ]
  },
  {
   "cell_type": "code",
   "execution_count": null,
   "metadata": {},
   "outputs": [],
   "source": [
    "caption_track = None\n",
    "\n",
    "for caption in yt_obj.caption_tracks:\n",
    "\n",
    "    if 'en' in caption.code and 'auto' not in caption.name:\n",
    "        caption_track = yt_obj.captions[caption.code]\n",
    "\n",
    "        # print(caption_track.xml_captions)\n",
    "\n",
    "        with open(caption_path+title+'.srt', 'w') as fp:\n",
    "            fp.write(xml_caption_to_srt(caption_track.xml_captions))"
   ]
  },
  {
   "cell_type": "code",
   "execution_count": null,
   "metadata": {},
   "outputs": [],
   "source": [
    "message = ''\n",
    "\n",
    "def progress_callback(stream, chunk, bytes_remaining):\n",
    "\n",
    "    try:\n",
    "        size = video.filesize\n",
    "        message = 'Video File Downloaded'\n",
    "    except Exception as e:\n",
    "        size = audio.filesize\n",
    "        message = 'Audio File Downloaded'\n",
    "\n",
    "    progress = int(((size*10 - bytes_remaining)) / 1000000)\n",
    "    print(f'Total: {int(size / 100000)}MB | {progress}MB Completed', end='\\r')\n",
    "\n",
    "def complete_callback(stream, file_handle):\n",
    "    print(message)\n",
    "\n",
    "yt_obj.register_on_progress_callback(progress_callback)\n",
    "yt_obj.register_on_complete_callback(complete_callback)\n",
    "\n",
    "best_video.download(output_path=video_path, filename=title+'.'+best_video.mime_type[6:])\n",
    "print()\n",
    "best_audio.download(output_path=audio_path, filename=title+'.'+best_audio.mime_type[6:])"
   ]
  },
  {
   "cell_type": "code",
   "execution_count": null,
   "metadata": {},
   "outputs": [],
   "source": [
    "video_stream = video_path+title+'.'+best_video.mime_type[6:]\n",
    "audio_stream = audio_path+title+'.'+best_audio.mime_type[6:]\n",
    "\n",
    "path = final_path+title+'.'+best_video.mime_type[6:]\n",
    "\n",
    "print(video_stream, audio_stream, path)\n",
    "\n",
    "caption_stream = None\n",
    "\n",
    "if title+'.srt' in os.listdir(caption_path):\n",
    "    caption_stream = caption_path+title+'.srt'\n",
    "\n",
    "    call(f'ffmpeg -y -i {video_stream} -i {audio_stream} -i {caption_stream} -acodec copy -vcodec copy -disposition:s:0 default {path}')\n",
    "\n",
    "    os.remove(caption_stream)\n",
    "\n",
    "    # ffmpeg.output(audio_stream, video_stream, caption_stream, filename=path, acodec='copy', vcodec='copy').run(overwrite_output=True)\n",
    "else:\n",
    "\n",
    "    call(f'ffmpeg -y -i {video_stream} -i {audio_stream} -acodec copy -vcodec copy {path}')\n",
    "\n",
    "    # ffmpeg.output(audio_stream, video_stream, filename=path, acodec='copy', vcodec='copy').run(overwrite_output=True)\n",
    "\n",
    "os.remove(video_stream)\n",
    "os.remove(audio_stream)"
   ]
  },
  {
   "cell_type": "code",
   "execution_count": null,
   "metadata": {},
   "outputs": [],
   "source": []
  }
 ],
 "metadata": {
  "kernelspec": {
   "display_name": "work_env",
   "language": "python",
   "name": "python3"
  },
  "language_info": {
   "codemirror_mode": {
    "name": "ipython",
    "version": 3
   },
   "file_extension": ".py",
   "mimetype": "text/x-python",
   "name": "python",
   "nbconvert_exporter": "python",
   "pygments_lexer": "ipython3",
   "version": "3.10.11"
  },
  "orig_nbformat": 4
 },
 "nbformat": 4,
 "nbformat_minor": 2
}
